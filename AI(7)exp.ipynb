{
  "metadata": {
    "kernelspec": {
      "name": "python",
      "display_name": "Python (Pyodide)",
      "language": "python"
    },
    "language_info": {
      "codemirror_mode": {
        "name": "python",
        "version": 3
      },
      "file_extension": ".py",
      "mimetype": "text/x-python",
      "name": "python",
      "nbconvert_exporter": "python",
      "pygments_lexer": "ipython3",
      "version": "3.8"
    }
  },
  "nbformat_minor": 5,
  "nbformat": 4,
  "cells": [
    {
      "id": "f9bdba07-c88e-48ae-bfa4-5b48dce52ea3",
      "cell_type": "code",
      "source": "class NQueensCSP:\n    def __init__(self, n):\n        self.n = n\n        self.variables = list(range(n))\n        self.domains = {v: list(range(n)) for v in self.variables}\n    def is_consistent(self, var, value, assignment):\n        for col, row in assignment.items():\n            if value == row:\n                return False\n            if abs(var - col) == abs(value - row):\n                return False\n        return True\n    def backtracking_search(self, assignment={}):\n        if len(assignment) == self.n:\n            return assignment\n        unassigned = [v for v in self.variables if v not in assignment]\n        var = unassigned[0]\n        for value in self.domains[var]:\n            if self.is_consistent(var, value, assignment):\n                assignment[var] = value\n                result = self.backtracking_search(assignment)\n                if result is not None:\n                    return result\n                del assignment[var]\n        return None\n    def solve(self):\n        solution = self.backtracking_search()\n        if solution:\n            return self.format_solution(solution)\n        return None\n    def format_solution(self, solution):\n        board = []\n        for col in sorted(solution):\n            row = ['Q' if i == solution[col] else '.' for i in range(self.n)]\n            board.append(' '.join(row))\n        return board\n \nn = 8\ncsp = NQueensCSP(n)\nsolution = csp.solve()\n \nif solution:\n    for row in solution:\n        print(row)\nelse:\n    print(f\"No solution found for {n}-Queens\")",
      "metadata": {
        "trusted": true
      },
      "outputs": [
        {
          "name": "stdout",
          "output_type": "stream",
          "text": "Q . . . . . . .\n. . . . Q . . .\n. . . . . . . Q\n. . . . . Q . .\n. . Q . . . . .\n. . . . . . Q .\n. Q . . . . . .\n. . . Q . . . .\n"
        }
      ],
      "execution_count": 4
    },
    {
      "id": "52add8c2-efc8-45e2-9026-28e70666e8f3",
      "cell_type": "code",
      "source": "",
      "metadata": {
        "trusted": true
      },
      "outputs": [],
      "execution_count": null
    }
  ]
}