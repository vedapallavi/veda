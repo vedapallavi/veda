{
 "cells": [
  {
   "cell_type": "code",
   "execution_count": 14,
   "id": "9024d731-4a70-41d5-a5b8-dfe99d31b97a",
   "metadata": {},
   "outputs": [
    {
     "name": "stdout",
     "output_type": "stream",
     "text": [
      "{'stdlid': 101, 'class': 'cse', 'gender': 'male', 'college': 'au'}\n"
     ]
    }
   ],
   "source": [
    "ls={\"stdlid\":101,\"class\":\"cse\",\"gender\":\"male\"}\n",
    "ls.update({\"college\":\"au\"})\n",
    "print(ls)"
   ]
  },
  {
   "cell_type": "code",
   "execution_count": 15,
   "id": "fd4caed7-e558-4214-8b5f-6782f76e7b3c",
   "metadata": {},
   "outputs": [
    {
     "name": "stdout",
     "output_type": "stream",
     "text": [
      "{'stdlid': 101, 'class': 'xxx', 'gender': 'male'}\n"
     ]
    }
   ],
   "source": [
    "keys=[\"stdlid\",\"class\",\"gender\"]\n",
    "values=[101,\"xxx\",\"male\"]\n",
    "ls=dict(zip(keys,values))\n",
    "print(ls)"
   ]
  },
  {
   "cell_type": "code",
   "execution_count": 16,
   "id": "b91e0ced-c830-4baa-a50f-11fe94e21438",
   "metadata": {},
   "outputs": [
    {
     "name": "stdout",
     "output_type": "stream",
     "text": [
      "{'stdlid': 101, 'class': 'cse', 'gender': 'male', 'college': 'au'}\n"
     ]
    }
   ],
   "source": [
    "ls={\"stdlid\":101,\"class\":\"cse\",\"gender\":\"male\"}\n",
    "ls.__setitem__(\"college\",\"au\")\n",
    "print(ls)"
   ]
  },
  {
   "cell_type": "code",
   "execution_count": 17,
   "id": "8496f383-5101-455c-a57e-5c2cff384a5d",
   "metadata": {},
   "outputs": [
    {
     "name": "stdout",
     "output_type": "stream",
     "text": [
      "{'name': 'John', 'age': 36, 'country': 'Norway'}\n"
     ]
    }
   ],
   "source": [
    " ls=dict(name = \"John\", age = 36, country = \"Norway\")\n",
    "print(ls)"
   ]
  },
  {
   "cell_type": "code",
   "execution_count": 18,
   "id": "f6cf1029-f2ff-449d-a08a-9b98cfe557f1",
   "metadata": {},
   "outputs": [
    {
     "name": "stdout",
     "output_type": "stream",
     "text": [
      "{'stdlid': 101, 'class': 'cse', 'gender': 'male', 'college': 'au'}\n"
     ]
    }
   ],
   "source": [
    "ls={\"stdlid\":101,\"class\":\"cse\",\"gender\":\"male\"}\n",
    "if \"college\" not in ls:\n",
    "    ls[\"college\"]=\"au\"\n",
    "else:\n",
    "    print(\"already exit\")\n",
    "print(ls)"
   ]
  },
  {
   "cell_type": "code",
   "execution_count": 19,
   "id": "6e716ad0-8a6f-48e5-bc35-4e3bc4bb9bf8",
   "metadata": {},
   "outputs": [
    {
     "name": "stdout",
     "output_type": "stream",
     "text": [
      "()\n",
      "<class 'tuple'>\n",
      "(1, 2, 3, 3)\n",
      "(1, 2, 3, 3)\n"
     ]
    }
   ],
   "source": [
    "t=()\n",
    "print(t)\n",
    "print(type(t))\n",
    "t1=(1,2,3,3)\n",
    "print(t1)\n",
    "t2=tuple(t1)\n",
    "print(t2)"
   ]
  },
  {
   "cell_type": "code",
   "execution_count": 20,
   "id": "7798498a-0d36-4ef5-bdd9-217bae357802",
   "metadata": {},
   "outputs": [
    {
     "name": "stdout",
     "output_type": "stream",
     "text": [
      "2\n"
     ]
    }
   ],
   "source": [
    "t=('a','p','p','i','e')\n",
    "print(t.count('p'))"
   ]
  },
  {
   "cell_type": "code",
   "execution_count": 21,
   "id": "49a6efee-5b56-476d-8f0b-a11f1469f795",
   "metadata": {},
   "outputs": [
    {
     "name": "stdout",
     "output_type": "stream",
     "text": [
      "30\n",
      "24.700000000000003\n",
      "ab\n"
     ]
    }
   ],
   "source": [
    "def add(a,b):\n",
    "    print(a+b)\n",
    "add(10,20)\n",
    "add(12.3,12.4)\n",
    "add('a','b')"
   ]
  },
  {
   "cell_type": "code",
   "execution_count": 22,
   "id": "51cc647a-553e-4e1a-b9b8-de69c899f05b",
   "metadata": {},
   "outputs": [
    {
     "name": "stdin",
     "output_type": "stream",
     "text": [
      "enter n 5\n",
      "enter r 2\n"
     ]
    },
    {
     "name": "stdout",
     "output_type": "stream",
     "text": [
      "10.0\n"
     ]
    }
   ],
   "source": [
    "def fact(n):\n",
    "    f=1\n",
    "    for i in range(1,n+1):\n",
    "        f=f*i\n",
    "    return(f)\n",
    "n=int(input(\"enter n\"))\n",
    "r=int(input(\"enter r\"))\n",
    "ncr=fact(n)/(fact(n-r)*fact(r))\n",
    "print(ncr)"
   ]
  },
  {
   "cell_type": "code",
   "execution_count": 23,
   "id": "bb4405ef-55f6-4cb4-85d5-7573ddb7341b",
   "metadata": {},
   "outputs": [
    {
     "data": {
      "text/plain": [
       "24"
      ]
     },
     "execution_count": 23,
     "metadata": {},
     "output_type": "execute_result"
    }
   ],
   "source": [
    "def fact(n):\n",
    "    f=1\n",
    "    for i in range(1,n+1):\n",
    "        f=f*i\n",
    "    return(f)\n",
    "fact(4)   "
   ]
  },
  {
   "cell_type": "code",
   "execution_count": 24,
   "id": "620e1317-717e-4945-9f42-af65c09d9f05",
   "metadata": {},
   "outputs": [
    {
     "name": "stdout",
     "output_type": "stream",
     "text": [
      "[[1 2]\n",
      " [2 4]]\n"
     ]
    }
   ],
   "source": [
    "import numpy as np\n",
    "arr=np.array([[1,2],[2,4]])\n",
    "print(arr)"
   ]
  },
  {
   "cell_type": "code",
   "execution_count": null,
   "id": "6fcc2954-e9bf-4a5f-a93a-0513b74d0f55",
   "metadata": {},
   "outputs": [],
   "source": []
  }
 ],
 "metadata": {
  "kernelspec": {
   "display_name": "Python 3 (ipykernel)",
   "language": "python",
   "name": "python3"
  },
  "language_info": {
   "codemirror_mode": {
    "name": "ipython",
    "version": 3
   },
   "file_extension": ".py",
   "mimetype": "text/x-python",
   "name": "python",
   "nbconvert_exporter": "python",
   "pygments_lexer": "ipython3",
   "version": "3.12.7"
  }
 },
 "nbformat": 4,
 "nbformat_minor": 5
}
