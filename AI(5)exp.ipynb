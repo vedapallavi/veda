{
 "cells": [
  {
   "cell_type": "code",
   "execution_count": 23,
   "id": "a917684c-fc03-4f3f-9690-128cc2e65453",
   "metadata": {},
   "outputs": [
    {
     "name": "stdout",
     "output_type": "stream",
     "text": [
      "Best solution found: 9.99999999999998\n",
      "Objective value at best solution: 139.99999999999955\n"
     ]
    }
   ],
   "source": [
    "def f(x):\n",
    "    #The given function f(x) = x^2 + 4x.\n",
    "    return x**2 + 4*x\n",
    "def hill_climbing(starting_point, step_size=0.1, max_iterations=100):\n",
    "    #Hill Climbing algorithm to maximize f(x).\n",
    "    current_solution = starting_point\n",
    "    current_value = f(current_solution)\n",
    "    for _ in range(max_iterations):\n",
    "        # Generate neighbors by moving left and right\n",
    "        left_neighbor = current_solution - step_size\n",
    "        right_neighbor = current_solution + step_size\n",
    "        # Evaluate the function at the neighbors\n",
    "        left_value = f(left_neighbor)\n",
    "        right_value = f(right_neighbor)\n",
    "        # Compare the neighbors and move to the one with the higher value\n",
    "        if left_value > current_value:\n",
    "            current_solution = left_neighbor\n",
    "            current_value = left_value\n",
    "        else:\n",
    "            current_solution = right_neighbor\n",
    "            current_value = right_value\n",
    "    return current_solution, current_value\n",
    "starting_point = 0\n",
    "optimal_solution, optimal_value = hill_climbing(starting_point)\n",
    "print(f\"Best solution found: {optimal_solution}\")\n",
    "print(f\"Objective value at best solution: {optimal_value}\")\n"
   ]
  },
  {
   "cell_type": "code",
   "execution_count": null,
   "id": "ba6ed38a-b618-44a1-b299-4e002a6d6a98",
   "metadata": {},
   "outputs": [],
   "source": []
  }
 ],
 "metadata": {
  "kernelspec": {
   "display_name": "Python 3 (ipykernel)",
   "language": "python",
   "name": "python3"
  },
  "language_info": {
   "codemirror_mode": {
    "name": "ipython",
    "version": 3
   },
   "file_extension": ".py",
   "mimetype": "text/x-python",
   "name": "python",
   "nbconvert_exporter": "python",
   "pygments_lexer": "ipython3",
   "version": "3.12.7"
  }
 },
 "nbformat": 4,
 "nbformat_minor": 5
}
