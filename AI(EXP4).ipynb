{
 "cells": [
  {
   "cell_type": "code",
   "execution_count": 47,
   "id": "d92452ce-38ce-4b15-88fb-de79bd2df0b4",
   "metadata": {},
   "outputs": [
    {
     "name": "stdout",
     "output_type": "stream",
     "text": [
      "PATH:  ['A', 'B', 'D', 'G']\n",
      "A* Path: A->B->D->G\n",
      "COST:  5\n"
     ]
    }
   ],
   "source": [
    "import heapq\n",
    "def astar_search(start, goal, graph, heuristic):\n",
    "    open_list = []\n",
    "    heapq.heappush(open_list, (0 + heuristic[start], start))\n",
    "    g_cost = {start : 0}\n",
    "    parents = {start : None}\n",
    "    while open_list:\n",
    "        current_f, current_node = heapq.heappop(open_list)\n",
    "        if current_node == goal:\n",
    "            path = []\n",
    "            while current_node:\n",
    "                path.append(current_node)\n",
    "                current_node = parents[current_node]\n",
    "            return path[::-1]\n",
    "            \n",
    "        for neighbour, cost in graph[current_node].items():\n",
    "            tentative_g = g_cost[current_node] + cost\n",
    "            \n",
    "            if (neighbour not in g_cost) or (tentative_g < g_cost[neighbour]):\n",
    "                g_cost[neighbour] = tentative_g\n",
    "                f_cost = tentative_g + heuristic[neighbour]\n",
    "                heapq.heappush(open_list, (f_cost, neighbour))\n",
    "                parents[neighbour] = current_node\n",
    "    return None\n",
    "graph = {\n",
    "    'A':{'B':1, 'C':4},\n",
    "    'B':{'A':1, 'D':2, 'E':5},\n",
    "    'C':{'A':4, 'F':1},\n",
    "    'D':{'B':2, 'G':2},\n",
    "    'E':{'B':5},\n",
    "    'F':{'C':1, 'G':3},\n",
    "    'G':{'D':2, 'F':3}\n",
    "}\n",
    "heuristic = {\n",
    "    'A':6, 'B':4, 'C':4, 'D':3, 'E':2, 'F':4, 'G':0}\n",
    "start = 'A'\n",
    "goal = 'G'\n",
    "path = astar_search(start, goal, graph, heuristic)\n",
    "print(\"PATH: \", path)\n",
    "print(f\"A* Path: {'->'.join(path)}\")\n",
    "cost = sum(graph[path[i]][path[i+1]] for i in range(len(path)-1))                                                                                                                                     \n",
    "print(\"COST: \", cost)"
   ]
  },
  {
   "cell_type": "raw",
   "id": "a1324517-1dab-40d9-b720-1e4f1cbe1f62",
   "metadata": {},
   "source": []
  }
 ],
 "metadata": {
  "kernelspec": {
   "display_name": "Python 3 (ipykernel)",
   "language": "python",
   "name": "python3"
  },
  "language_info": {
   "codemirror_mode": {
    "name": "ipython",
    "version": 3
   },
   "file_extension": ".py",
   "mimetype": "text/x-python",
   "name": "python",
   "nbconvert_exporter": "python",
   "pygments_lexer": "ipython3",
   "version": "3.12.7"
  }
 },
 "nbformat": 4,
 "nbformat_minor": 5
}
