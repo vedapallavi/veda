{
 "cells": [
  {
   "cell_type": "code",
   "execution_count": 3,
   "id": "db617d5e-a57c-4190-9454-3bb63f91a359",
   "metadata": {},
   "outputs": [
    {
     "name": "stdout",
     "output_type": "stream",
     "text": [
      "Original array: [12  4 56  7 29 10]\n",
      "Sorted array: [ 4  7 10 12 29 56]\n"
     ]
    }
   ],
   "source": [
    "import numpy as np\n",
    "\n",
    "# Creating a NumPy array\n",
    "arr = np.array([12, 4, 56, 7, 29, 10])\n",
    "\n",
    "# Sorting the array\n",
    "sorted_arr = np.sort(arr)\n",
    "\n",
    "# Display results\n",
    "print(\"Original array:\", arr)\n",
    "print(\"Sorted array:\", sorted_arr)\n"
   ]
  },
  {
   "cell_type": "code",
   "execution_count": null,
   "id": "d624501d-39fb-42ad-8903-9098c535af9a",
   "metadata": {},
   "outputs": [],
   "source": []
  }
 ],
 "metadata": {
  "kernelspec": {
   "display_name": "Python 3 (ipykernel)",
   "language": "python",
   "name": "python3"
  },
  "language_info": {
   "codemirror_mode": {
    "name": "ipython",
    "version": 3
   },
   "file_extension": ".py",
   "mimetype": "text/x-python",
   "name": "python",
   "nbconvert_exporter": "python",
   "pygments_lexer": "ipython3",
   "version": "3.13.2"
  }
 },
 "nbformat": 4,
 "nbformat_minor": 5
}
