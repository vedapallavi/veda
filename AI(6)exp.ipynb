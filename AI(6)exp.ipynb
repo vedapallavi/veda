{
 "cells": [
  {
   "cell_type": "code",
   "execution_count": 21,
   "id": "1a156c23-7327-4d16-a3e1-0eb4e4bcb1af",
   "metadata": {},
   "outputs": [
    {
     "name": "stdout",
     "output_type": "stream",
     "text": [
      "The optimal value is:  4\n"
     ]
    }
   ],
   "source": [
    "MAX, MIN = 1000, -1000\n",
    "\n",
    "def minmax(depth, nodeindex, maxplayer, values, alpha, beta):\n",
    "    if depth == 3:\n",
    "        return values[nodeindex]\n",
    "    \n",
    "    if maxplayer:\n",
    "        best = MIN\n",
    "        for i in range(0, 2):\n",
    "            val = minmax(depth + 1, nodeindex * 2 + i, False, values, alpha, beta)\n",
    "            best = max(best, val)\n",
    "            alpha = max(alpha, best)\n",
    "            if beta <= alpha:\n",
    "                break\n",
    "        return best\n",
    "    else: \n",
    "        best = MAX\n",
    "        for i in range(0, 2):\n",
    "            val = minmax(depth + 1, nodeindex * 2 + i, True, values, alpha, beta)\n",
    "            best = min(best, val)\n",
    "            alpha = min(alpha, best)\n",
    "            if beta <= alpha:\n",
    "                break\n",
    "        return best\n",
    "\n",
    "if __name__ == \"__main__\":\n",
    "    values = [-1, 4, 2, 6, -3, -5, 0, 7]\n",
    "print(\"The optimal value is: \", minmax(0, 0, True, values, MIN, MAX))\n"
   ]
  },
  {
   "cell_type": "code",
   "execution_count": null,
   "id": "2e2ae84a-ef52-43c7-9cca-35f5f5135051",
   "metadata": {},
   "outputs": [],
   "source": []
  }
 ],
 "metadata": {
  "kernelspec": {
   "display_name": "Python 3 (ipykernel)",
   "language": "python",
   "name": "python3"
  },
  "language_info": {
   "codemirror_mode": {
    "name": "ipython",
    "version": 3
   },
   "file_extension": ".py",
   "mimetype": "text/x-python",
   "name": "python",
   "nbconvert_exporter": "python",
   "pygments_lexer": "ipython3",
   "version": "3.12.7"
  }
 },
 "nbformat": 4,
 "nbformat_minor": 5
}
