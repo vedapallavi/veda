{
 "cells": [
  {
   "cell_type": "code",
   "execution_count": 1,
   "id": "d6cc18aa-c668-4fae-a4c7-6b0bda0b5837",
   "metadata": {},
   "outputs": [
    {
     "name": "stdout",
     "output_type": "stream",
     "text": [
      "Shortest path: ['A', 'B', 'C', 'D']\n",
      "Total cost: 4\n"
     ]
    }
   ],
   "source": [
    "import heapq\n",
    "\n",
    "def uniform_cost_search(graph, start, goal):\n",
    "    priority_queue = []\n",
    "    heapq.heappush(priority_queue, (0, start, []))\n",
    "    visited = set()\n",
    "    \n",
    "    while priority_queue:\n",
    "        cost, node, path = heapq.heappop(priority_queue)\n",
    "        \n",
    "        if node in visited:\n",
    "            continue\n",
    "        \n",
    "        path = path + [node]\n",
    "        visited.add(node)\n",
    "        \n",
    "        if node == goal:\n",
    "            return path, cost\n",
    "        \n",
    "        for neighbor, edge_cost in graph.get(node, []):\n",
    "            if neighbor not in visited:\n",
    "                heapq.heappush(priority_queue, (cost + edge_cost, neighbor, path))\n",
    "    \n",
    "    return None, float(\"inf\")\n",
    "\n",
    "# Example graph\n",
    "graph = {\n",
    "    \"A\": [(\"B\", 1), (\"C\", 4)],\n",
    "    \"B\": [(\"A\", 1), (\"C\", 2), (\"D\", 5)],\n",
    "    \"C\": [(\"A\", 4), (\"B\", 2), (\"D\", 1)],\n",
    "    \"D\": [(\"B\", 5), (\"C\", 1)]\n",
    "}\n",
    "\n",
    "path, cost = uniform_cost_search(graph, \"A\", \"D\")\n",
    "print(\"Shortest path:\", path)\n",
    "print(\"Total cost:\", cost)\n"
   ]
  },
  {
   "cell_type": "code",
   "execution_count": null,
   "id": "9662c120-e4d0-4896-ac40-04cb9ebff442",
   "metadata": {},
   "outputs": [],
   "source": []
  }
 ],
 "metadata": {
  "kernelspec": {
   "display_name": "Python 3 (ipykernel)",
   "language": "python",
   "name": "python3"
  },
  "language_info": {
   "codemirror_mode": {
    "name": "ipython",
    "version": 3
   },
   "file_extension": ".py",
   "mimetype": "text/x-python",
   "name": "python",
   "nbconvert_exporter": "python",
   "pygments_lexer": "ipython3",
   "version": "3.13.2"
  }
 },
 "nbformat": 4,
 "nbformat_minor": 5
}
